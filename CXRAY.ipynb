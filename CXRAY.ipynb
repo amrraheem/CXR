{
 "cells": [
  {
   "cell_type": "code",
   "execution_count": 1,
   "id": "55b40961",
   "metadata": {},
   "outputs": [
    {
     "name": "stdout",
     "output_type": "stream",
     "text": [
      "WARNING:tensorflow:From C:\\Users\\User\\anaconda3\\Lib\\site-packages\\keras\\src\\losses.py:2976: The name tf.losses.sparse_softmax_cross_entropy is deprecated. Please use tf.compat.v1.losses.sparse_softmax_cross_entropy instead.\n",
      "\n"
     ]
    }
   ],
   "source": [
    "import os\n",
    "import tensorflow as tf\n",
    "from tensorflow.keras.preprocessing.image import ImageDataGenerator\n",
    "from tensorflow.keras.models import Sequential\n",
    "from tensorflow.keras.layers import Conv2D, MaxPooling2D, Flatten, Dense, Dropout\n",
    "from tensorflow.keras.callbacks import EarlyStopping\n"
   ]
  },
  {
   "cell_type": "code",
   "execution_count": 2,
   "id": "9aae3984",
   "metadata": {},
   "outputs": [],
   "source": [
    "# Set paths for training and validation data\n",
    "train_dir = 'C:/Users/User/chest_xray/train'\n",
    "validation_dir = 'C:/Users/User/chest_xray/test'\n"
   ]
  },
  {
   "cell_type": "code",
   "execution_count": 3,
   "id": "b237ae8c",
   "metadata": {},
   "outputs": [
    {
     "name": "stdout",
     "output_type": "stream",
     "text": [
      "Found 5232 images belonging to 2 classes.\n",
      "Found 624 images belonging to 2 classes.\n"
     ]
    }
   ],
   "source": [
    "# Create ImageDataGenerators for data augmentation\n",
    "train_datagen = ImageDataGenerator(\n",
    "    rescale=1./255,\n",
    "    shear_range=0.2,\n",
    "    zoom_range=0.2,\n",
    "    horizontal_flip=True\n",
    ")\n",
    "\n",
    "validation_datagen = ImageDataGenerator(rescale=1./255)\n",
    "\n",
    "train_generator = train_datagen.flow_from_directory(\n",
    "    train_dir,\n",
    "    target_size=(150, 150),\n",
    "    batch_size=32,\n",
    "    class_mode='binary'\n",
    ")\n",
    "\n",
    "validation_generator = validation_datagen.flow_from_directory(\n",
    "    validation_dir,\n",
    "    target_size=(150, 150),\n",
    "    batch_size=32,\n",
    "    class_mode='binary'\n",
    ")"
   ]
  },
  {
   "cell_type": "code",
   "execution_count": 16,
   "id": "f7097f78",
   "metadata": {},
   "outputs": [],
   "source": [
    "# Build the model\n",
    "model = Sequential([\n",
    "    Conv2D(32, (3, 3), activation='relu', input_shape=(150, 150, 3)),\n",
    "    MaxPooling2D((2, 2)),\n",
    "    \n",
    "    Conv2D(64, (3, 3), activation='relu'),\n",
    "    MaxPooling2D((2, 2)),\n",
    "    \n",
    "    Conv2D(128, (3, 3), activation='relu'),\n",
    "    MaxPooling2D((2, 2)),\n",
    "    \n",
    "    Flatten(),\n",
    "    Dense(512, activation='relu'),\n",
    "    Dropout(0.5),\n",
    "    Dense(1, activation='sigmoid')\n",
    "])\n",
    "\n",
    "# Compile the model\n",
    "model.compile(optimizer='adam',\n",
    "              loss='binary_crossentropy',\n",
    "              metrics=['accuracy'])\n",
    "\n",
    "# Set up early stopping\n",
    "#early_stopping = EarlyStopping(monitor='val_loss', patience=3, restore_best_weights=True)"
   ]
  },
  {
   "cell_type": "code",
   "execution_count": 17,
   "id": "1a7ca121",
   "metadata": {},
   "outputs": [
    {
     "name": "stdout",
     "output_type": "stream",
     "text": [
      "Epoch 1/10\n",
      "163/163 [==============================] - 103s 624ms/step - loss: 0.4221 - accuracy: 0.8308 - val_loss: 0.4355 - val_accuracy: 0.8043\n",
      "Epoch 2/10\n",
      "163/163 [==============================] - 101s 620ms/step - loss: 0.2652 - accuracy: 0.8896 - val_loss: 0.5597 - val_accuracy: 0.7549\n",
      "Epoch 3/10\n",
      "163/163 [==============================] - 102s 622ms/step - loss: 0.2067 - accuracy: 0.9167 - val_loss: 0.2806 - val_accuracy: 0.8865\n",
      "Epoch 4/10\n",
      "163/163 [==============================] - 101s 619ms/step - loss: 0.1967 - accuracy: 0.9225 - val_loss: 0.3330 - val_accuracy: 0.8832\n",
      "Epoch 5/10\n",
      "163/163 [==============================] - 100s 610ms/step - loss: 0.1817 - accuracy: 0.9288 - val_loss: 0.5408 - val_accuracy: 0.7993\n",
      "Epoch 6/10\n",
      "163/163 [==============================] - 100s 611ms/step - loss: 0.1693 - accuracy: 0.9381 - val_loss: 0.4223 - val_accuracy: 0.8618\n",
      "Epoch 7/10\n",
      "163/163 [==============================] - 108s 663ms/step - loss: 0.1570 - accuracy: 0.9362 - val_loss: 0.3083 - val_accuracy: 0.8865\n",
      "Epoch 8/10\n",
      "163/163 [==============================] - 105s 645ms/step - loss: 0.1482 - accuracy: 0.9454 - val_loss: 0.3834 - val_accuracy: 0.8849\n",
      "Epoch 9/10\n",
      "163/163 [==============================] - 107s 656ms/step - loss: 0.1284 - accuracy: 0.9523 - val_loss: 0.4055 - val_accuracy: 0.8849\n",
      "Epoch 10/10\n",
      "163/163 [==============================] - 110s 673ms/step - loss: 0.1274 - accuracy: 0.9490 - val_loss: 0.4567 - val_accuracy: 0.8832\n"
     ]
    }
   ],
   "source": [
    "# Train the model\n",
    "history = model.fit(\n",
    "    train_generator,\n",
    "    steps_per_epoch=train_generator.samples // train_generator.batch_size,\n",
    "    epochs=10,\n",
    "    validation_data=validation_generator,\n",
    "    validation_steps=validation_generator.samples // validation_generator.batch_size\n",
    "    #,\n",
    "    #callbacks=[early_stopping]\n",
    ")\n",
    "\n",
    "# Save the model\n",
    "model.save('chest_xray_classifier.h5')\n"
   ]
  },
  {
   "cell_type": "code",
   "execution_count": null,
   "id": "dc7d2aa9",
   "metadata": {},
   "outputs": [],
   "source": []
  },
  {
   "cell_type": "code",
   "execution_count": 22,
   "id": "497f2bf9",
   "metadata": {},
   "outputs": [
    {
     "name": "stdout",
     "output_type": "stream",
     "text": [
      "1/1 [==============================] - 0s 55ms/step\n",
      "The predicted class for the image is: Normal\n"
     ]
    }
   ],
   "source": [
    "import tensorflow as tf\n",
    "from tensorflow.keras.preprocessing import image\n",
    "import numpy as np\n",
    "\n",
    "# Load the trained model\n",
    "model = tf.keras.models.load_model('chest_xray_classifier.h5')\n",
    "\n",
    "def preprocess_image(img_path):\n",
    "    \"\"\"Preprocess the image for prediction.\"\"\"\n",
    "    img = image.load_img(img_path, target_size=(150, 150))\n",
    "    img_array = image.img_to_array(img)\n",
    "    img_array = np.expand_dims(img_array, axis=0)\n",
    "    img_array /= 255.0  # Rescale pixel values to [0, 1]\n",
    "    return img_array\n",
    "\n",
    "def predict_image(img_path):\n",
    "    \"\"\"Predict if the image is Normal or PNEUMONIA.\"\"\"\n",
    "    img_array = preprocess_image('C:/Users/User/my_img/43.jpeg')\n",
    "    prediction = model.predict(img_array)\n",
    "    if prediction[0] > 0.5:\n",
    "        return \"PNEUMONIA\"\n",
    "    else:\n",
    "        return \"Normal\"\n",
    "\n",
    "# Test the model with a new image\n",
    "new_image_path = 'path_to_new_image.jpg'\n",
    "result = predict_image(new_image_path)\n",
    "print(f'The predicted class for the image is: {result}')\n"
   ]
  },
  {
   "cell_type": "code",
   "execution_count": null,
   "id": "dfd04204",
   "metadata": {},
   "outputs": [],
   "source": []
  },
  {
   "cell_type": "code",
   "execution_count": 1,
   "id": "ec5389e6",
   "metadata": {},
   "outputs": [
    {
     "name": "stdout",
     "output_type": "stream",
     "text": [
      "WARNING:tensorflow:From C:\\Users\\User\\anaconda3\\Lib\\site-packages\\keras\\src\\losses.py:2976: The name tf.losses.sparse_softmax_cross_entropy is deprecated. Please use tf.compat.v1.losses.sparse_softmax_cross_entropy instead.\n",
      "\n",
      "WARNING:tensorflow:From C:\\Users\\User\\anaconda3\\Lib\\site-packages\\keras\\src\\backend.py:1398: The name tf.executing_eagerly_outside_functions is deprecated. Please use tf.compat.v1.executing_eagerly_outside_functions instead.\n",
      "\n",
      "WARNING:tensorflow:From C:\\Users\\User\\anaconda3\\Lib\\site-packages\\keras\\src\\layers\\pooling\\max_pooling2d.py:161: The name tf.nn.max_pool is deprecated. Please use tf.nn.max_pool2d instead.\n",
      "\n",
      "1/1 [==============================] - 0s 94ms/step\n",
      "1/1 [==============================] - 0s 31ms/step\n",
      "1/1 [==============================] - 0s 33ms/step\n",
      "1/1 [==============================] - 0s 16ms/step\n"
     ]
    },
    {
     "ename": "SystemExit",
     "evalue": "0",
     "output_type": "error",
     "traceback": [
      "An exception has occurred, use %tb to see the full traceback.\n",
      "\u001b[1;31mSystemExit\u001b[0m\u001b[1;31m:\u001b[0m 0\n"
     ]
    },
    {
     "name": "stderr",
     "output_type": "stream",
     "text": [
      "C:\\Users\\User\\anaconda3\\Lib\\site-packages\\IPython\\core\\interactiveshell.py:3513: UserWarning: To exit: use 'exit', 'quit', or Ctrl-D.\n",
      "  warn(\"To exit: use 'exit', 'quit', or Ctrl-D.\", stacklevel=1)\n"
     ]
    }
   ],
   "source": [
    "import sys\n",
    "from PyQt5.QtWidgets import QApplication, QWidget, QPushButton, QLabel, QFileDialog, QVBoxLayout\n",
    "from PyQt5.QtGui import QPixmap\n",
    "from PyQt5.QtCore import Qt\n",
    "import tensorflow as tf\n",
    "from tensorflow.keras.preprocessing import image\n",
    "import numpy as np\n",
    "\n",
    "# Load the trained model\n",
    "model = tf.keras.models.load_model('chest_xray_classifier.h5')\n",
    "\n",
    "def preprocess_image(img_path):\n",
    "    \"\"\"Preprocess the image for prediction.\"\"\"\n",
    "    img = image.load_img(img_path, target_size=(150, 150))\n",
    "    img_array = image.img_to_array(img)\n",
    "    img_array = np.expand_dims(img_array, axis=0)\n",
    "    img_array /= 255.0  # Rescale pixel values to [0, 1]\n",
    "    return img_array\n",
    "\n",
    "def predict_image(img_path):\n",
    "    \"\"\"Predict if the image is Normal or PNEUMONIA.\"\"\"\n",
    "    img_array = preprocess_image(img_path)\n",
    "    prediction = model.predict(img_array)\n",
    "    if prediction[0] > 0.5:\n",
    "        return \"PNEUMONIA\"\n",
    "    else:\n",
    "        return \"Normal\"\n",
    "\n",
    "class App(QWidget):\n",
    "\n",
    "    def __init__(self):\n",
    "        super().__init__()\n",
    "        self.title = 'Chest X-Ray Classifier'\n",
    "        self.left = 100\n",
    "        self.top = 100\n",
    "        self.width = 800\n",
    "        self.height = 600\n",
    "        self.initUI()\n",
    "    \n",
    "    def initUI(self):\n",
    "        self.setWindowTitle(self.title)\n",
    "        self.setGeometry(self.left, self.top, self.width, self.height)\n",
    "        \n",
    "        layout = QVBoxLayout()\n",
    "\n",
    "        self.label = QLabel(self)\n",
    "        self.label.setAlignment(Qt.AlignCenter)\n",
    "        layout.addWidget(self.label)\n",
    "        \n",
    "        self.result_label = QLabel('Prediction: ', self)\n",
    "        self.result_label.setAlignment(Qt.AlignCenter)\n",
    "        layout.addWidget(self.result_label)\n",
    "        \n",
    "        self.button = QPushButton('Open Image', self)\n",
    "        self.button.clicked.connect(self.open_image)\n",
    "        layout.addWidget(self.button)\n",
    "        \n",
    "        self.setLayout(layout)\n",
    "        \n",
    "        self.show()\n",
    "\n",
    "    def open_image(self):\n",
    "        options = QFileDialog.Options()\n",
    "        options |= QFileDialog.ReadOnly\n",
    "        file_name, _ = QFileDialog.getOpenFileName(self, 'Open Image', '', 'Image Files (*.png *.jpg *.jpeg)', options=options)\n",
    "        if file_name:\n",
    "            self.display_image(file_name)\n",
    "            prediction = predict_image(file_name)\n",
    "            self.result_label.setText(f'Prediction: {prediction}')\n",
    "\n",
    "    def display_image(self, file_path):\n",
    "        pixmap = QPixmap(file_path)\n",
    "        self.label.setPixmap(pixmap.scaled(self.label.size(), Qt.KeepAspectRatio, Qt.SmoothTransformation))\n",
    "\n",
    "if __name__ == '__main__':\n",
    "    app = QApplication(sys.argv)\n",
    "    ex = App()\n",
    "    sys.exit(app.exec_())\n"
   ]
  },
  {
   "cell_type": "code",
   "execution_count": null,
   "id": "e0e1dab3",
   "metadata": {},
   "outputs": [],
   "source": []
  }
 ],
 "metadata": {
  "kernelspec": {
   "display_name": "Python 3 (ipykernel)",
   "language": "python",
   "name": "python3"
  },
  "language_info": {
   "codemirror_mode": {
    "name": "ipython",
    "version": 3
   },
   "file_extension": ".py",
   "mimetype": "text/x-python",
   "name": "python",
   "nbconvert_exporter": "python",
   "pygments_lexer": "ipython3",
   "version": "3.11.4"
  }
 },
 "nbformat": 4,
 "nbformat_minor": 5
}
